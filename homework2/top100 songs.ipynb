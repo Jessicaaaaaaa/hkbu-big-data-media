{
 "cells": [
  {
   "cell_type": "code",
   "execution_count": 1,
   "metadata": {},
   "outputs": [],
   "source": [
    "import requests"
   ]
  },
  {
   "cell_type": "code",
   "execution_count": 2,
   "metadata": {},
   "outputs": [],
   "source": [
    "import bs4"
   ]
  },
  {
   "cell_type": "code",
   "execution_count": 3,
   "metadata": {},
   "outputs": [],
   "source": [
    "import csv"
   ]
  },
  {
   "cell_type": "code",
   "execution_count": 46,
   "metadata": {},
   "outputs": [],
   "source": [
    "r = requests.get('https://www.doipod.com/itunes-charts/itunes-top-100-songs-usa/')"
   ]
  },
  {
   "cell_type": "code",
   "execution_count": 47,
   "metadata": {},
   "outputs": [
    {
     "data": {
      "text/plain": [
       "requests.models.Response"
      ]
     },
     "execution_count": 47,
     "metadata": {},
     "output_type": "execute_result"
    }
   ],
   "source": [
    "type(r)"
   ]
  },
  {
   "cell_type": "code",
   "execution_count": 48,
   "metadata": {},
   "outputs": [
    {
     "name": "stderr",
     "output_type": "stream",
     "text": [
      "/Users/zjy/venv/lib/python3.6/site-packages/bs4/__init__.py:181: UserWarning: No parser was explicitly specified, so I'm using the best available HTML parser for this system (\"html5lib\"). This usually isn't a problem, but if you run this code on another system, or in a different virtual environment, it may use a different parser and behave differently.\n",
      "\n",
      "The code that caused this warning is on line 193 of the file /Library/Frameworks/Python.framework/Versions/3.6/lib/python3.6/runpy.py. To get rid of this warning, change code that looks like this:\n",
      "\n",
      " BeautifulSoup(YOUR_MARKUP})\n",
      "\n",
      "to this:\n",
      "\n",
      " BeautifulSoup(YOUR_MARKUP, \"html5lib\")\n",
      "\n",
      "  markup_type=markup_type))\n"
     ]
    }
   ],
   "source": [
    "mypage = bs4.BeautifulSoup(r.text)"
   ]
  },
  {
   "cell_type": "code",
   "execution_count": 49,
   "metadata": {},
   "outputs": [],
   "source": [
    "s = str(mypage)"
   ]
  },
  {
   "cell_type": "code",
   "execution_count": 50,
   "metadata": {},
   "outputs": [
    {
     "data": {
      "text/plain": [
       "'<Response [200]>'"
      ]
     },
     "execution_count": 50,
     "metadata": {},
     "output_type": "execute_result"
    }
   ],
   "source": [
    "str(r)"
   ]
  },
  {
   "cell_type": "code",
   "execution_count": 51,
   "metadata": {},
   "outputs": [
    {
     "data": {
      "text/plain": [
       "[<span class=\"songname\">Top Off (feat. JAY Z, Future &amp; Beyoncé)</span>,\n",
       " <span class=\"songname\">God's Plan</span>,\n",
       " <span class=\"songname\">The Middle</span>,\n",
       " <span class=\"songname\">The Champion (feat. Ludacris)</span>,\n",
       " <span class=\"songname\">No Excuses</span>,\n",
       " <span class=\"songname\">Meant to Be (feat. Florida Georgia Line)</span>,\n",
       " <span class=\"songname\">Whatever It Takes</span>,\n",
       " <span class=\"songname\">Perfect</span>,\n",
       " <span class=\"songname\">You Make It Easy</span>,\n",
       " <span class=\"songname\">Psycho (feat. Ty Dolla $ign)</span>,\n",
       " <span class=\"songname\">Thunder</span>,\n",
       " <span class=\"songname\">Say Something (feat. Chris Stapleton)</span>,\n",
       " <span class=\"songname\">Havana (feat. Young Thug)</span>,\n",
       " <span class=\"songname\">Pray For Me</span>,\n",
       " <span class=\"songname\">The Hamilton Polka</span>,\n",
       " <span class=\"songname\">Everyday</span>,\n",
       " <span class=\"songname\">Let You Down</span>,\n",
       " <span class=\"songname\">Finesse (Remix) [feat. Cardi B]</span>,\n",
       " <span class=\"songname\">Never Be the Same</span>,\n",
       " <span class=\"songname\">Heaven</span>,\n",
       " <span class=\"songname\">Wait</span>,\n",
       " <span class=\"songname\">Bulletproof</span>,\n",
       " <span class=\"songname\">Marry Me</span>,\n",
       " <span class=\"songname\">Ric Flair Drip</span>,\n",
       " <span class=\"songname\">Believer</span>,\n",
       " <span class=\"songname\">All The Stars</span>,\n",
       " <span class=\"songname\">Wolves</span>,\n",
       " <span class=\"songname\">God's Plan</span>,\n",
       " <span class=\"songname\">Sad!</span>,\n",
       " <span class=\"songname\">I Fall Apart</span>,\n",
       " <span class=\"songname\">Most People Are Good</span>,\n",
       " <span class=\"songname\">Broken Halos</span>,\n",
       " <span class=\"songname\">X</span>,\n",
       " <span class=\"songname\">rockstar (feat. 21 Savage)</span>,\n",
       " <span class=\"songname\">This Is Me</span>,\n",
       " <span class=\"songname\">Five More Minutes</span>,\n",
       " <span class=\"songname\">Stir Fry</span>,\n",
       " <span class=\"songname\">Mine</span>,\n",
       " <span class=\"songname\">Look Alive (feat. Drake)</span>,\n",
       " <span class=\"songname\">How Long</span>,\n",
       " <span class=\"songname\">Zombie</span>,\n",
       " <span class=\"songname\">I Was Jack (You Were Diane)</span>,\n",
       " <span class=\"songname\">Dancer</span>,\n",
       " <span class=\"songname\">Feel It Still</span>,\n",
       " <span class=\"songname\">Singles You Up</span>,\n",
       " <span class=\"songname\">Him &amp; I</span>,\n",
       " <span class=\"songname\">Perfect Symphony</span>,\n",
       " <span class=\"songname\">Lemon</span>,\n",
       " <span class=\"songname\">No Roots</span>,\n",
       " <span class=\"songname\">Bad at Love</span>,\n",
       " <span class=\"songname\">Changes</span>,\n",
       " <span class=\"songname\">New Rules</span>,\n",
       " <span class=\"songname\">River (feat. Ed Sheeran)</span>,\n",
       " <span class=\"songname\">You Broke Up with Me</span>,\n",
       " <span class=\"songname\">Young Dumb &amp; Broke</span>,\n",
       " <span class=\"songname\">Beautiful Trauma</span>,\n",
       " <span class=\"songname\">Written in the Sand</span>,\n",
       " <span class=\"songname\">Let Me Go (feat. Florida Georgia Line &amp; watt)</span>,\n",
       " <span class=\"songname\">Powerglide (feat. Juicy J)</span>,\n",
       " <span class=\"songname\">Tell Me You Love Me</span>,\n",
       " <span class=\"songname\">Tennessee Whiskey</span>,\n",
       " <span class=\"songname\">Up Down (feat. Florida Georgia Line)</span>,\n",
       " <span class=\"songname\">Tequila</span>,\n",
       " <span class=\"songname\">Everything's Gonna Be Alright</span>,\n",
       " <span class=\"songname\">Good Old Days (feat. Kesha)</span>,\n",
       " <span class=\"songname\">Shape of You</span>,\n",
       " <span class=\"songname\">What Lovers Do (feat. SZA)</span>,\n",
       " <span class=\"songname\">Stranger Things</span>,\n",
       " <span class=\"songname\">Boy</span>,\n",
       " <span class=\"songname\">One Number Away</span>,\n",
       " <span class=\"songname\">I Lived It</span>,\n",
       " <span class=\"songname\">CAN'T STOP THE FEELING!</span>,\n",
       " <span class=\"songname\">Break Up in the End</span>,\n",
       " <span class=\"songname\">LOVE. (FEAT. ZACARI.)</span>,\n",
       " <span class=\"songname\">44 More</span>,\n",
       " <span class=\"songname\">Lights Down Low (feat. gnash)</span>,\n",
       " <span class=\"songname\">백일몽 Daydream</span>,\n",
       " <span class=\"songname\">One Foot</span>,\n",
       " <span class=\"songname\">Supermarket Flowers</span>,\n",
       " <span class=\"songname\">FRIENDS</span>,\n",
       " <span class=\"songname\">Bodak Yellow</span>,\n",
       " <span class=\"songname\">I Like Me Better</span>,\n",
       " <span class=\"songname\">Booty (feat. Chris Brown, Jeezy &amp; Trey Songz) [Remix]</span>,\n",
       " <span class=\"songname\">All On Me</span>,\n",
       " <span class=\"songname\">What About Us</span>,\n",
       " <span class=\"songname\">What Ifs (feat. Lauren Alaina)</span>,\n",
       " <span class=\"songname\">I just need U.</span>,\n",
       " <span class=\"songname\">Dura</span>,\n",
       " <span class=\"songname\">King's Dead</span>,\n",
       " <span class=\"songname\">Solitaire (feat. Migos &amp; Lil Yachty)</span>,\n",
       " <span class=\"songname\">Body Like a Back Road</span>,\n",
       " <span class=\"songname\">Perfect Duet (with Beyoncé)</span>,\n",
       " <span class=\"songname\">MotorSport</span>,\n",
       " <span class=\"songname\">Sit Next to Me</span>,\n",
       " <span class=\"songname\">Redbone</span>,\n",
       " <span class=\"songname\">Bartier Cardi (feat. 21 Savage)</span>,\n",
       " <span class=\"songname\">Sorry Not Sorry</span>,\n",
       " <span class=\"songname\">End Game (feat. Ed Sheeran &amp; Future)</span>,\n",
       " <span class=\"songname\">Despacito (feat. Justin Bieber) [Remix]</span>,\n",
       " <span class=\"songname\">24K Magic</span>]"
      ]
     },
     "execution_count": 51,
     "metadata": {},
     "output_type": "execute_result"
    }
   ],
   "source": [
    "mypage.find_all('span', attrs={'class':'songname'})"
   ]
  },
  {
   "cell_type": "code",
   "execution_count": 52,
   "metadata": {},
   "outputs": [
    {
     "data": {
      "text/plain": [
       "100"
      ]
     },
     "execution_count": 52,
     "metadata": {},
     "output_type": "execute_result"
    }
   ],
   "source": [
    "len(mypage.find_all('span', attrs={'class':'songname'}))"
   ]
  },
  {
   "cell_type": "code",
   "execution_count": 65,
   "metadata": {},
   "outputs": [],
   "source": [
    "mysongs = mypage.find_all('div', attrs={'class': 'foxsurround'})"
   ]
  },
  {
   "cell_type": "code",
   "execution_count": 66,
   "metadata": {},
   "outputs": [],
   "source": [
    "mysong = mysongs[0]"
   ]
  },
  {
   "cell_type": "code",
   "execution_count": 67,
   "metadata": {},
   "outputs": [
    {
     "data": {
      "text/plain": [
       "<a name=\"1\">\n",
       "<span class=\"rankposition\">#1 </span><span class=\"songname\">Top Off (feat. JAY Z, Future &amp; Beyoncé)</span><br/><div class=\"artistname\">Artist: DJ Khaled</div><div class=\"released\">Released: March 2, 2018</div></a>"
      ]
     },
     "execution_count": 67,
     "metadata": {},
     "output_type": "execute_result"
    }
   ],
   "source": [
    "mysong.find()"
   ]
  },
  {
   "cell_type": "code",
   "execution_count": 68,
   "metadata": {},
   "outputs": [
    {
     "data": {
      "text/plain": [
       "'Top Off (feat. JAY Z, Future & Beyoncé)'"
      ]
     },
     "execution_count": 68,
     "metadata": {},
     "output_type": "execute_result"
    }
   ],
   "source": [
    "mysong.find('span', attrs={'class': 'songname'}).text"
   ]
  },
  {
   "cell_type": "code",
   "execution_count": 69,
   "metadata": {},
   "outputs": [
    {
     "data": {
      "text/plain": [
       "'#1 '"
      ]
     },
     "execution_count": 69,
     "metadata": {},
     "output_type": "execute_result"
    }
   ],
   "source": [
    "mysong.find('span', attrs={'class': 'rankposition'}).text"
   ]
  },
  {
   "cell_type": "code",
   "execution_count": 70,
   "metadata": {},
   "outputs": [
    {
     "data": {
      "text/plain": [
       "'Artist: DJ Khaled'"
      ]
     },
     "execution_count": 70,
     "metadata": {},
     "output_type": "execute_result"
    }
   ],
   "source": [
    "mysong.find('div', attrs={'class': 'artistname'}).text"
   ]
  },
  {
   "cell_type": "code",
   "execution_count": 72,
   "metadata": {},
   "outputs": [],
   "source": [
    "songs = []\n",
    "for mysong in mysongs:\n",
    "    myrank = mysong.find('span', attrs={'class': 'rankposition'}).text\n",
    "    mytitle = mysong.find('span', attrs={'class': 'songname'}).text\n",
    "    myartist = mysong.find('div', attrs={'class': 'artistname'}).text\n",
    "    songs.append([myrank, mytitle, myartist])"
   ]
  },
  {
   "cell_type": "code",
   "execution_count": 73,
   "metadata": {},
   "outputs": [
    {
     "data": {
      "text/plain": [
       "[['#1 ', 'Top Off (feat. JAY Z, Future & Beyoncé)', 'Artist: DJ Khaled'],\n",
       " ['#2 ', \"God's Plan\", 'Artist: Drake'],\n",
       " ['#3 ', 'The Middle', 'Artist: Zedd, Maren Morris & Grey'],\n",
       " ['#4 ', 'The Champion (feat. Ludacris)', 'Artist: Carrie Underwood'],\n",
       " ['#5 ', 'No Excuses', 'Artist: Meghan Trainor'],\n",
       " ['#6 ', 'Meant to Be (feat. Florida Georgia Line)', 'Artist: Bebe Rexha'],\n",
       " ['#7 ', 'Whatever It Takes', 'Artist: Imagine Dragons'],\n",
       " ['#8 ', 'Perfect', 'Artist: Ed Sheeran'],\n",
       " ['#9 ', 'You Make It Easy', 'Artist: Jason Aldean'],\n",
       " ['#10 ', 'Psycho (feat. Ty Dolla $ign)', 'Artist: Post Malone'],\n",
       " ['#11 ', 'Thunder', 'Artist: Imagine Dragons'],\n",
       " ['#12 ',\n",
       "  'Say Something (feat. Chris Stapleton)',\n",
       "  'Artist: Justin Timberlake'],\n",
       " ['#13 ', 'Havana (feat. Young Thug)', 'Artist: Camila Cabello'],\n",
       " ['#14 ', 'Pray For Me', 'Artist: The Weeknd, Kendrick Lamar'],\n",
       " ['#15 ', 'The Hamilton Polka', 'Artist: \"Weird Al\" Yankovic'],\n",
       " ['#16 ', 'Everyday', 'Artist: Logic & Marshmello'],\n",
       " ['#17 ', 'Let You Down', 'Artist: NF'],\n",
       " ['#18 ', 'Finesse (Remix) [feat. Cardi B]', 'Artist: Bruno Mars'],\n",
       " ['#19 ', 'Never Be the Same', 'Artist: Camila Cabello'],\n",
       " ['#20 ', 'Heaven', 'Artist: Kane Brown'],\n",
       " ['#21 ', 'Wait', 'Artist: Maroon 5'],\n",
       " ['#22 ', 'Bulletproof', 'Artist: Godsmack'],\n",
       " ['#23 ', 'Marry Me', 'Artist: Thomas Rhett'],\n",
       " ['#24 ', 'Ric Flair Drip', 'Artist: Offset & Metro Boomin'],\n",
       " ['#25 ', 'Believer', 'Artist: Imagine Dragons'],\n",
       " ['#26 ', 'All The Stars', 'Artist: Kendrick Lamar, SZA'],\n",
       " ['#27 ', 'Wolves', 'Artist: Selena Gomez & Marshmello'],\n",
       " ['#28 ', \"God's Plan\", 'Artist: Drake'],\n",
       " ['#29 ', 'Sad!', 'Artist: XXXTENTACION'],\n",
       " ['#30 ', 'I Fall Apart', 'Artist: Post Malone'],\n",
       " ['#31 ', 'Most People Are Good', 'Artist: Luke Bryan'],\n",
       " ['#32 ', 'Broken Halos', 'Artist: Chris Stapleton'],\n",
       " ['#33 ', 'X', 'Artist: Nicky Jam & J Balvin'],\n",
       " ['#34 ', 'rockstar (feat. 21 Savage)', 'Artist: Post Malone'],\n",
       " ['#35 ',\n",
       "  'This Is Me',\n",
       "  'Artist: Keala Settle & The Greatest Showman Ensemble'],\n",
       " ['#36 ', 'Five More Minutes', 'Artist: Scotty McCreery'],\n",
       " ['#37 ', 'Stir Fry', 'Artist: Migos'],\n",
       " ['#38 ', 'Mine', 'Artist: Bazzi'],\n",
       " ['#39 ', 'Look Alive (feat. Drake)', 'Artist: BlocBoy JB'],\n",
       " ['#40 ', 'How Long', 'Artist: Charlie Puth'],\n",
       " ['#41 ', 'Zombie', 'Artist: Bad Wolves'],\n",
       " ['#42 ', 'I Was Jack (You Were Diane)', 'Artist: Jake Owen'],\n",
       " ['#43 ', 'Dancer', 'Artist: Flo Rida'],\n",
       " ['#44 ', 'Feel It Still', 'Artist: Portugal. The Man'],\n",
       " ['#45 ', 'Singles You Up', 'Artist: Jordan Davis'],\n",
       " ['#46 ', 'Him & I', 'Artist: G-Eazy & Halsey'],\n",
       " ['#47 ', 'Perfect Symphony', 'Artist: Ed Sheeran & Andrea Bocelli'],\n",
       " ['#48 ', 'Lemon', 'Artist: N.E.R.D & Rihanna'],\n",
       " ['#49 ', 'No Roots', 'Artist: Alice Merton'],\n",
       " ['#50 ', 'Bad at Love', 'Artist: Halsey'],\n",
       " ['#51 ', 'Changes', 'Artist: XXXTENTACION'],\n",
       " ['#52 ', 'New Rules', 'Artist: Dua Lipa'],\n",
       " ['#53 ', 'River (feat. Ed Sheeran)', 'Artist: Eminem'],\n",
       " ['#54 ', 'You Broke Up with Me', 'Artist: Walker Hayes'],\n",
       " ['#55 ', 'Young Dumb & Broke', 'Artist: Khalid'],\n",
       " ['#56 ', 'Beautiful Trauma', 'Artist: P!nk'],\n",
       " ['#57 ', 'Written in the Sand', 'Artist: Old Dominion'],\n",
       " ['#58 ',\n",
       "  'Let Me Go (feat. Florida Georgia Line & watt)',\n",
       "  'Artist: Hailee Steinfeld & Alesso'],\n",
       " ['#59 ',\n",
       "  'Powerglide (feat. Juicy J)',\n",
       "  'Artist: Rae Sremmurd, Swae Lee & Slim Jxmmi'],\n",
       " ['#60 ', 'Tell Me You Love Me', 'Artist: Demi Lovato'],\n",
       " ['#61 ', 'Tennessee Whiskey', 'Artist: Chris Stapleton'],\n",
       " ['#62 ', 'Up Down (feat. Florida Georgia Line)', 'Artist: Morgan Wallen'],\n",
       " ['#63 ', 'Tequila', 'Artist: Dan + Shay'],\n",
       " ['#64 ',\n",
       "  \"Everything's Gonna Be Alright\",\n",
       "  'Artist: David Lee Murphy & Kenny Chesney'],\n",
       " ['#65 ', 'Good Old Days (feat. Kesha)', 'Artist: Macklemore'],\n",
       " ['#66 ', 'Shape of You', 'Artist: Ed Sheeran'],\n",
       " ['#67 ', 'What Lovers Do (feat. SZA)', 'Artist: Maroon 5'],\n",
       " ['#68 ', 'Stranger Things', 'Artist: Joyner Lucas & Chris Brown'],\n",
       " ['#69 ', 'Boy', 'Artist: Lee Brice'],\n",
       " ['#70 ', 'One Number Away', 'Artist: Luke Combs'],\n",
       " ['#71 ', 'I Lived It', 'Artist: Blake Shelton'],\n",
       " ['#72 ', \"CAN'T STOP THE FEELING!\", 'Artist: Justin Timberlake'],\n",
       " ['#73 ', 'Break Up in the End', 'Artist: Cole Swindell'],\n",
       " ['#74 ', 'LOVE. (FEAT. ZACARI.)', 'Artist: Kendrick Lamar'],\n",
       " ['#75 ', '44 More', 'Artist: Logic'],\n",
       " ['#76 ', 'Lights Down Low (feat. gnash)', 'Artist: MAX'],\n",
       " ['#77 ', '백일몽 Daydream', 'Artist: j-hope'],\n",
       " ['#78 ', 'One Foot', 'Artist: WALK THE MOON'],\n",
       " ['#79 ', 'Supermarket Flowers', 'Artist: Ed Sheeran'],\n",
       " ['#80 ', 'FRIENDS', 'Artist: Marshmello & Anne-Marie'],\n",
       " ['#81 ', 'Bodak Yellow', 'Artist: Cardi B'],\n",
       " ['#82 ', 'I Like Me Better', 'Artist: Lauv'],\n",
       " ['#83 ',\n",
       "  'Booty (feat. Chris Brown, Jeezy & Trey Songz) [Remix]',\n",
       "  'Artist: Blac Youngsta'],\n",
       " ['#84 ', 'All On Me', 'Artist: Devin Dawson'],\n",
       " ['#85 ', 'What About Us', 'Artist: P!nk'],\n",
       " ['#86 ', 'What Ifs (feat. Lauren Alaina)', 'Artist: Kane Brown'],\n",
       " ['#87 ', 'I just need U.', 'Artist: TobyMac'],\n",
       " ['#88 ', 'Dura', 'Artist: Daddy Yankee'],\n",
       " ['#89 ',\n",
       "  \"King's Dead\",\n",
       "  'Artist: Jay Rock, Kendrick Lamar, Future, James Blake'],\n",
       " ['#90 ', 'Solitaire (feat. Migos & Lil Yachty)', 'Artist: Gucci Mane'],\n",
       " ['#91 ', 'Body Like a Back Road', 'Artist: Sam Hunt'],\n",
       " ['#92 ', 'Perfect Duet (with Beyoncé)', 'Artist: Ed Sheeran'],\n",
       " ['#93 ', 'MotorSport', 'Artist: Migos, Nicki Minaj & Cardi B'],\n",
       " ['#94 ', 'Sit Next to Me', 'Artist: Foster the People'],\n",
       " ['#95 ', 'Redbone', 'Artist: Childish Gambino'],\n",
       " ['#96 ', 'Bartier Cardi (feat. 21 Savage)', 'Artist: Cardi B'],\n",
       " ['#97 ', 'Sorry Not Sorry', 'Artist: Demi Lovato'],\n",
       " ['#98 ', 'End Game (feat. Ed Sheeran & Future)', 'Artist: Taylor Swift'],\n",
       " ['#99 ',\n",
       "  'Despacito (feat. Justin Bieber) [Remix]',\n",
       "  'Artist: Luis Fonsi & Daddy Yankee'],\n",
       " ['#100 ', '24K Magic', 'Artist: Bruno Mars']]"
      ]
     },
     "execution_count": 73,
     "metadata": {},
     "output_type": "execute_result"
    }
   ],
   "source": [
    "songs"
   ]
  },
  {
   "cell_type": "code",
   "execution_count": 75,
   "metadata": {},
   "outputs": [],
   "source": [
    "import csv\n",
    "with open('mysongs.csv', 'w', newline='') as csvfile:\n",
    "    spamwriter = csv.writer(csvfile, delimiter=',',\n",
    "                            quotechar='\"', quoting=csv.QUOTE_MINIMAL)\n",
    "    spamwriter.writerows(songs)"
   ]
  },
  {
   "cell_type": "code",
   "execution_count": null,
   "metadata": {},
   "outputs": [],
   "source": []
  }
 ],
 "metadata": {
  "kernelspec": {
   "display_name": "Python 3",
   "language": "python",
   "name": "python3"
  },
  "language_info": {
   "codemirror_mode": {
    "name": "ipython",
    "version": 3
   },
   "file_extension": ".py",
   "mimetype": "text/x-python",
   "name": "python",
   "nbconvert_exporter": "python",
   "pygments_lexer": "ipython3",
   "version": "3.6.4"
  }
 },
 "nbformat": 4,
 "nbformat_minor": 2
}
